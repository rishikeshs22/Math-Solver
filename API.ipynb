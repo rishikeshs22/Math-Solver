{
  "nbformat": 4,
  "nbformat_minor": 0,
  "metadata": {
    "colab": {
      "provenance": []
    },
    "kernelspec": {
      "name": "python3",
      "display_name": "Python 3"
    },
    "language_info": {
      "name": "python"
    },
    "accelerator": "GPU",
    "gpuClass": "standard"
  },
  "cells": [
    {
      "cell_type": "markdown",
      "source": [
        "# **API using Flask**\n",
        "**This notebook contains code to run a Flask API on colab itself using Flask-Ngrok**"
      ],
      "metadata": {
        "id": "xX3LU1KTJ5Kb"
      }
    },
    {
      "cell_type": "markdown",
      "source": [
        "## **Installing Required Packages**"
      ],
      "metadata": {
        "id": "ZBhbemCSKwLj"
      }
    },
    {
      "cell_type": "code",
      "source": [
        "!pip install flask-ngrok\n",
        "!pip install Flask-Cors\n",
        "!pip install pyngrok==4.1.1\n",
        "!pip install wolframalpha"
      ],
      "metadata": {
        "colab": {
          "base_uri": "https://localhost:8080/"
        },
        "id": "eKZ9kqIxjGQ6",
        "outputId": "3e54ff4e-ada5-42e8-b97e-6113a73b3d8d"
      },
      "execution_count": 1,
      "outputs": [
        {
          "output_type": "stream",
          "name": "stdout",
          "text": [
            "Looking in indexes: https://pypi.org/simple, https://us-python.pkg.dev/colab-wheels/public/simple/\n",
            "Collecting flask-ngrok\n",
            "  Downloading flask_ngrok-0.0.25-py3-none-any.whl (3.1 kB)\n",
            "Requirement already satisfied: requests in /usr/local/lib/python3.9/dist-packages (from flask-ngrok) (2.27.1)\n",
            "Requirement already satisfied: Flask>=0.8 in /usr/local/lib/python3.9/dist-packages (from flask-ngrok) (2.2.3)\n",
            "Requirement already satisfied: click>=8.0 in /usr/local/lib/python3.9/dist-packages (from Flask>=0.8->flask-ngrok) (8.1.3)\n",
            "Requirement already satisfied: Jinja2>=3.0 in /usr/local/lib/python3.9/dist-packages (from Flask>=0.8->flask-ngrok) (3.1.2)\n",
            "Requirement already satisfied: importlib-metadata>=3.6.0 in /usr/local/lib/python3.9/dist-packages (from Flask>=0.8->flask-ngrok) (6.1.0)\n",
            "Requirement already satisfied: Werkzeug>=2.2.2 in /usr/local/lib/python3.9/dist-packages (from Flask>=0.8->flask-ngrok) (2.2.3)\n",
            "Requirement already satisfied: itsdangerous>=2.0 in /usr/local/lib/python3.9/dist-packages (from Flask>=0.8->flask-ngrok) (2.1.2)\n",
            "Requirement already satisfied: idna<4,>=2.5 in /usr/local/lib/python3.9/dist-packages (from requests->flask-ngrok) (3.4)\n",
            "Requirement already satisfied: charset-normalizer~=2.0.0 in /usr/local/lib/python3.9/dist-packages (from requests->flask-ngrok) (2.0.12)\n",
            "Requirement already satisfied: urllib3<1.27,>=1.21.1 in /usr/local/lib/python3.9/dist-packages (from requests->flask-ngrok) (1.26.15)\n",
            "Requirement already satisfied: certifi>=2017.4.17 in /usr/local/lib/python3.9/dist-packages (from requests->flask-ngrok) (2022.12.7)\n",
            "Requirement already satisfied: zipp>=0.5 in /usr/local/lib/python3.9/dist-packages (from importlib-metadata>=3.6.0->Flask>=0.8->flask-ngrok) (3.15.0)\n",
            "Requirement already satisfied: MarkupSafe>=2.0 in /usr/local/lib/python3.9/dist-packages (from Jinja2>=3.0->Flask>=0.8->flask-ngrok) (2.1.2)\n",
            "Installing collected packages: flask-ngrok\n",
            "Successfully installed flask-ngrok-0.0.25\n",
            "Looking in indexes: https://pypi.org/simple, https://us-python.pkg.dev/colab-wheels/public/simple/\n",
            "Collecting Flask-Cors\n",
            "  Downloading Flask_Cors-3.0.10-py2.py3-none-any.whl (14 kB)\n",
            "Requirement already satisfied: Six in /usr/local/lib/python3.9/dist-packages (from Flask-Cors) (1.16.0)\n",
            "Requirement already satisfied: Flask>=0.9 in /usr/local/lib/python3.9/dist-packages (from Flask-Cors) (2.2.3)\n",
            "Requirement already satisfied: Werkzeug>=2.2.2 in /usr/local/lib/python3.9/dist-packages (from Flask>=0.9->Flask-Cors) (2.2.3)\n",
            "Requirement already satisfied: importlib-metadata>=3.6.0 in /usr/local/lib/python3.9/dist-packages (from Flask>=0.9->Flask-Cors) (6.1.0)\n",
            "Requirement already satisfied: Jinja2>=3.0 in /usr/local/lib/python3.9/dist-packages (from Flask>=0.9->Flask-Cors) (3.1.2)\n",
            "Requirement already satisfied: itsdangerous>=2.0 in /usr/local/lib/python3.9/dist-packages (from Flask>=0.9->Flask-Cors) (2.1.2)\n",
            "Requirement already satisfied: click>=8.0 in /usr/local/lib/python3.9/dist-packages (from Flask>=0.9->Flask-Cors) (8.1.3)\n",
            "Requirement already satisfied: zipp>=0.5 in /usr/local/lib/python3.9/dist-packages (from importlib-metadata>=3.6.0->Flask>=0.9->Flask-Cors) (3.15.0)\n",
            "Requirement already satisfied: MarkupSafe>=2.0 in /usr/local/lib/python3.9/dist-packages (from Jinja2>=3.0->Flask>=0.9->Flask-Cors) (2.1.2)\n",
            "Installing collected packages: Flask-Cors\n",
            "Successfully installed Flask-Cors-3.0.10\n",
            "Looking in indexes: https://pypi.org/simple, https://us-python.pkg.dev/colab-wheels/public/simple/\n",
            "Collecting pyngrok==4.1.1\n",
            "  Downloading pyngrok-4.1.1.tar.gz (18 kB)\n",
            "  Preparing metadata (setup.py) ... \u001b[?25l\u001b[?25hdone\n",
            "Requirement already satisfied: future in /usr/local/lib/python3.9/dist-packages (from pyngrok==4.1.1) (0.18.3)\n",
            "Requirement already satisfied: PyYAML in /usr/local/lib/python3.9/dist-packages (from pyngrok==4.1.1) (6.0)\n",
            "Building wheels for collected packages: pyngrok\n",
            "  Building wheel for pyngrok (setup.py) ... \u001b[?25l\u001b[?25hdone\n",
            "  Created wheel for pyngrok: filename=pyngrok-4.1.1-py3-none-any.whl size=15979 sha256=70a2300cdf59a3a7e8a2f7965fafc7fa118ca3d0cb4e0116373e1465d3784f74\n",
            "  Stored in directory: /root/.cache/pip/wheels/89/2d/c2/abe6bcfde6bce368c00ecd73310c11edb672c3eda09a090cfa\n",
            "Successfully built pyngrok\n",
            "Installing collected packages: pyngrok\n",
            "Successfully installed pyngrok-4.1.1\n",
            "Looking in indexes: https://pypi.org/simple, https://us-python.pkg.dev/colab-wheels/public/simple/\n",
            "Collecting wolframalpha\n",
            "  Downloading wolframalpha-5.0.0-py3-none-any.whl (7.5 kB)\n",
            "Requirement already satisfied: more-itertools in /usr/local/lib/python3.9/dist-packages (from wolframalpha) (9.1.0)\n",
            "Collecting jaraco.context\n",
            "  Downloading jaraco.context-4.3.0-py3-none-any.whl (5.3 kB)\n",
            "Collecting xmltodict\n",
            "  Downloading xmltodict-0.13.0-py2.py3-none-any.whl (10.0 kB)\n",
            "Installing collected packages: xmltodict, jaraco.context, wolframalpha\n",
            "Successfully installed jaraco.context-4.3.0 wolframalpha-5.0.0 xmltodict-0.13.0\n"
          ]
        }
      ]
    },
    {
      "cell_type": "markdown",
      "source": [
        "## **Importing Required Modules**"
      ],
      "metadata": {
        "id": "MUlQ3GRSLFMA"
      }
    },
    {
      "cell_type": "code",
      "source": [
        "import tensorflow as tf\n",
        "import numpy as np\n",
        "import cv2\n",
        "from flask import Flask, request, jsonify\n",
        "from flask_ngrok import run_with_ngrok\n",
        "import json\n",
        "from base64 import b64decode\n",
        "from flask_cors import CORS, cross_origin\n",
        "from PIL import Image\n",
        "import wolframalpha"
      ],
      "metadata": {
        "id": "CWdJTlrigg2q"
      },
      "execution_count": 2,
      "outputs": []
    },
    {
      "cell_type": "markdown",
      "source": [
        "## **Loading Model**\n",
        "**Loading our pre-trained model and defining a function to detect group of images in our usecase.**"
      ],
      "metadata": {
        "id": "dSoUwSx0LLbx"
      }
    },
    {
      "cell_type": "code",
      "source": [
        "model = tf.keras.models.load_model('model.h5')"
      ],
      "metadata": {
        "id": "IbpX1hD8gsFI"
      },
      "execution_count": 4,
      "outputs": []
    },
    {
      "cell_type": "code",
      "source": [
        "class_names = ['0', '1', '2', '3', '4', '5', '6', '7', '8', '9', 'add', 'dec', 'div', 'eq', 'mul', 'sub', 'x', 'y', 'z']"
      ],
      "metadata": {
        "id": "LpOa5ebNivFb"
      },
      "execution_count": 5,
      "outputs": []
    },
    {
      "cell_type": "code",
      "source": [
        "def detect(count):\n",
        "  result = []\n",
        "  imgs = []\n",
        "  for i in range(count):\n",
        "    img = cv2.imread(str(i) + '.png', 0)\n",
        "    img = cv2.resize(img, (100, 100)) #resize the image to the input shape of our model\n",
        "    img = img / 255.0 #normalize the pixel values between 0 and 1\n",
        "    imgs.append(img)\n",
        "  imgs = np.array(imgs)\n",
        "  predictions = model.predict(imgs)\n",
        "  for pred in predictions:\n",
        "    result.append(class_names[np.argmax(pred)])\n",
        "  return result"
      ],
      "metadata": {
        "id": "BnKfSuhhgmtU"
      },
      "execution_count": 6,
      "outputs": []
    },
    {
      "cell_type": "markdown",
      "source": [
        "**Setting authtoken for Flask-Ngrok**"
      ],
      "metadata": {
        "id": "pwQ4cAGHLZCD"
      }
    },
    {
      "cell_type": "code",
      "source": [
        "!ngrok authtoken 2MBiIm2SuATyVElShfhVXcOUljW_2TeXUc22jzRD4kJnoR24S"
      ],
      "metadata": {
        "colab": {
          "base_uri": "https://localhost:8080/"
        },
        "id": "JuwG9KdNlZhh",
        "outputId": "821d2f08-8007-469d-edd0-003cd733f889"
      },
      "execution_count": 8,
      "outputs": [
        {
          "output_type": "stream",
          "name": "stdout",
          "text": [
            "Authtoken saved to configuration file: /root/.ngrok2/ngrok.yml\n"
          ]
        }
      ]
    },
    {
      "cell_type": "markdown",
      "source": [
        "**Setting up for WolframAlpha API**"
      ],
      "metadata": {
        "id": "fsrF01rlLiwd"
      }
    },
    {
      "cell_type": "code",
      "source": [
        "app_id = \"VTKLPY-R5EQ5V6VAW\"\n",
        "client = wolframalpha.Client(app_id) "
      ],
      "metadata": {
        "id": "gz3yLY-gLiJv"
      },
      "execution_count": null,
      "outputs": []
    },
    {
      "cell_type": "code",
      "source": [
        "def translate(res):\n",
        "  translated = ''\n",
        "  code = {'add': '+', 'dec': '.', 'div': '/', 'eq': '=', 'mul': '*', 'sub': '-'}\n",
        "  for char in res:\n",
        "    if char in code:\n",
        "      translated += code[char]\n",
        "    else:\n",
        "      translated += char\n",
        "  return translated\n",
        "    "
      ],
      "metadata": {
        "id": "XINFuHlMnn9o"
      },
      "execution_count": 9,
      "outputs": []
    },
    {
      "cell_type": "markdown",
      "source": [
        "## **API USING FLASK**"
      ],
      "metadata": {
        "id": "Ig2I8Uf-LtTe"
      }
    },
    {
      "cell_type": "code",
      "source": [
        "\n",
        "app = Flask(__name__)\n",
        "cors = CORS(app)\n",
        "app.config['CORS_HEADERS'] = 'Content-Type'\n",
        "run_with_ngrok(app)\n",
        "\n",
        "\n",
        "@app.route('/solve', methods=['POST', 'GET'])\n",
        "@cross_origin()\n",
        "def login():\n",
        "    if request.method == 'POST':\n",
        "\n",
        "        \n",
        "        data = json.loads(str(request.data)[2:-1])\n",
        "        print(data)\n",
        "        count = data['count']\n",
        "        images = data['images']\n",
        "        for i in range(count):\n",
        "            image = images[i].replace('data:image/png;base64,', '')\n",
        "            text = image.encode('ascii')\n",
        "            f = b64decode(text)\n",
        "            with open(str(i) + '.png', 'wb') as file:\n",
        "                file.write(f)\n",
        "        detected = detect(count)\n",
        "        translated = translate(detected)\n",
        "        print(detected, translated)\n",
        "        res = client.query(translated)\n",
        "        print(res)\n",
        "        answer = next(res.results).text\n",
        "\n",
        "        return jsonify({'answer': answer, 'detected': translated})\n",
        "    else:\n",
        "        return jsonify({'error': \"only post requests allowed\"})\n",
        "\n",
        "\n",
        "app.run()\n"
      ],
      "metadata": {
        "colab": {
          "base_uri": "https://localhost:8080/"
        },
        "id": "F6PMK8ADiUWB",
        "outputId": "41bb4042-5bda-4d31-fe90-3da9a278dd9d"
      },
      "execution_count": 12,
      "outputs": [
        {
          "output_type": "stream",
          "name": "stdout",
          "text": [
            " * Serving Flask app '__main__'\n",
            " * Debug mode: off\n"
          ]
        },
        {
          "output_type": "stream",
          "name": "stderr",
          "text": [
            "INFO:werkzeug:\u001b[31m\u001b[1mWARNING: This is a development server. Do not use it in a production deployment. Use a production WSGI server instead.\u001b[0m\n",
            " * Running on http://127.0.0.1:5000\n",
            "INFO:werkzeug:\u001b[33mPress CTRL+C to quit\u001b[0m\n"
          ]
        },
        {
          "output_type": "stream",
          "name": "stdout",
          "text": [
            " * Running on http://6665-34-141-213-18.ngrok.io\n",
            " * Traffic stats available on http://127.0.0.1:4040\n"
          ]
        },
        {
          "output_type": "stream",
          "name": "stderr",
          "text": [
            "INFO:werkzeug:127.0.0.1 - - [31/Mar/2023 14:02:43] \"OPTIONS /solve HTTP/1.1\" 200 -\n"
          ]
        },
        {
          "output_type": "stream",
          "name": "stdout",
          "text": [
            "{'count': 5, 'images': ['data:image/png;base64,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', 'data:image/png;base64,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', 'data:image/png;base64,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', 'data:image/png;base64,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', 'data:image/png;base64,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']}\n",
            "1/1 [==============================] - 0s 22ms/step\n",
            "['3', 'x', 'eq', '1', '5'] 3x=15\n"
          ]
        },
        {
          "output_type": "stream",
          "name": "stderr",
          "text": [
            "INFO:werkzeug:127.0.0.1 - - [31/Mar/2023 14:02:45] \"POST /solve HTTP/1.1\" 200 -\n"
          ]
        },
        {
          "output_type": "stream",
          "name": "stdout",
          "text": [
            "{'@success': True, '@error': 'false', '@xml:space': 'preserve', '@numpods': '5', '@datatypes': '', '@timedout': '', '@timedoutpods': '', '@timing': '0.609', '@parsetiming': '0.176', '@parsetimedout': 'false', '@recalculate': '', '@id': 'MSP102451h9520f43eg6ad6c00005bf4i8ge9g7b063f', '@host': 'https://www6b3.wolframalpha.com', '@server': '10', '@related': 'https://www6b3.wolframalpha.com/api/v1/relatedQueries.jsp?id=MSPa102461h9520f43eg6ad6c00002bgdaed4490451973142019838491228908', '@version': '2.6', '@inputstring': '3x=15', 'pod': [{'@title': 'Input', '@scanner': 'Identity', '@id': 'Input', '@position': 100.0, '@error': 'false', '@numsubpods': 1, 'subpod': {'@title': '', 'img': {'@src': 'https://www6b3.wolframalpha.com/Calculate/MSP/MSP102471h9520f43eg6ad6c0000281hf7a49d793973?MSPStoreType=image/gif&s=10', '@alt': '3 x = 15', '@title': '3 x = 15', '@width': 56, '@height': 19, '@type': 'Default', '@themes': '1,2,3,4,5,6,7,8,9,10,11,12', '@colorinvertable': 'true', '@contenttype': 'image/gif'}, 'plaintext': '3 x = 15'}, 'expressiontypes': {'@count': '1', 'expressiontype': {'@name': 'Default'}}}, {'@title': 'Plot', '@scanner': 'Reduce', '@id': 'RootPlot', '@position': 200.0, '@error': 'false', '@numsubpods': 1, 'subpod': {'@title': '', 'img': {'@src': 'https://www6b3.wolframalpha.com/Calculate/MSP/MSP102481h9520f43eg6ad6c00002888g7f91gf51ha2?MSPStoreType=image/gif&s=10', '@alt': 'Plot', '@title': '', '@width': 373, '@height': 206, '@type': '2DMathPlot_1', '@themes': '1,2,3,4,5,6,7,8,9,10,11,12', '@colorinvertable': 'true', '@contenttype': 'image/gif'}, 'plaintext': None}, 'expressiontypes': {'@count': '1', 'expressiontype': {'@name': 'Default'}}}, {'@title': 'Alternate form', '@scanner': 'Simplification', '@id': 'AlternateForm', '@position': 300.0, '@error': 'false', '@numsubpods': 1, 'subpod': {'@title': '', 'img': {'@src': 'https://www6b3.wolframalpha.com/Calculate/MSP/MSP102491h9520f43eg6ad6c000060c9e3e3368eh973?MSPStoreType=image/gif&s=10', '@alt': '3 x - 15 = 0', '@title': '3 x - 15 = 0', '@width': 80, '@height': 19, '@type': 'Default', '@themes': '1,2,3,4,5,6,7,8,9,10,11,12', '@colorinvertable': 'true', '@contenttype': 'image/gif'}, 'plaintext': '3 x - 15 = 0'}, 'expressiontypes': {'@count': '1', 'expressiontype': {'@name': 'Default'}}}, {'@title': 'Number line', '@scanner': 'Reduce', '@id': 'NumberLine', '@position': 400.0, '@error': 'false', '@numsubpods': 1, 'subpod': {'@title': '', 'img': {'@src': 'https://www6b3.wolframalpha.com/Calculate/MSP/MSP102501h9520f43eg6ad6c000048c1i6ce4a3dd9ai?MSPStoreType=image/gif&s=10', '@alt': 'Number line', '@title': '', '@width': 330, '@height': 59, '@type': '1DMathPlot_1', '@themes': '1,2,3,4,5,6,7,8,9,10,11,12', '@colorinvertable': 'true', '@contenttype': 'image/gif'}, 'plaintext': None}, 'expressiontypes': {'@count': '1', 'expressiontype': {'@name': 'Default'}}}, {'@title': 'Solution', '@scanner': 'Reduce', '@id': 'Solution', '@position': 500.0, '@error': 'false', '@numsubpods': 1, '@primary': True, 'subpod': {'@title': '', 'img': {'@src': 'https://www6b3.wolframalpha.com/Calculate/MSP/MSP102511h9520f43eg6ad6c000023ebdce934d895hi?MSPStoreType=image/gif&s=10', '@alt': 'x = 5', '@title': 'x = 5', '@width': 550, '@height': 22, '@type': 'Default', '@themes': '1,2,3,4,5,6,7,8,9,10,11,12', '@colorinvertable': 'true', '@contenttype': 'image/gif'}, 'plaintext': 'x = 5'}, 'expressiontypes': {'@count': '1', 'expressiontype': {'@name': 'Default'}}, 'states': {'@count': '1', 'state': {'@name': 'Step-by-step solution', '@input': 'Solution__Step-by-step solution', '@stepbystep': 'true', '@buttonstyle': 'StepByStepSolution'}}}]}\n"
          ]
        },
        {
          "output_type": "stream",
          "name": "stderr",
          "text": [
            "INFO:werkzeug:127.0.0.1 - - [31/Mar/2023 14:02:57] \"OPTIONS /solve HTTP/1.1\" 200 -\n"
          ]
        },
        {
          "output_type": "stream",
          "name": "stdout",
          "text": [
            "{'count': 5, 'images': ['data:image/png;base64,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', 'data:image/png;base64,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', 'data:image/png;base64,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', 'data:image/png;base64,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', 'data:image/png;base64,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']}\n",
            "1/1 [==============================] - 0s 19ms/step\n",
            "['3', 'x', 'eq', '1', '2'] 3x=12\n"
          ]
        },
        {
          "output_type": "stream",
          "name": "stderr",
          "text": [
            "INFO:werkzeug:127.0.0.1 - - [31/Mar/2023 14:02:59] \"POST /solve HTTP/1.1\" 200 -\n"
          ]
        },
        {
          "output_type": "stream",
          "name": "stdout",
          "text": [
            "{'@success': True, '@error': 'false', '@xml:space': 'preserve', '@numpods': '5', '@datatypes': '', '@timedout': '', '@timedoutpods': '', '@timing': '0.625', '@parsetiming': '0.187', '@parsetimedout': 'false', '@recalculate': '', '@id': 'MSP1428148b05de60f59bag00004c381753g3g530hc', '@host': 'https://www6b3.wolframalpha.com', '@server': '11', '@related': 'https://www6b3.wolframalpha.com/api/v1/relatedQueries.jsp?id=MSPa1429148b05de60f59bag0000397gcd5g2i9ei3585481992349747128482', '@version': '2.6', '@inputstring': '3x=12', 'pod': [{'@title': 'Input', '@scanner': 'Identity', '@id': 'Input', '@position': 100.0, '@error': 'false', '@numsubpods': 1, 'subpod': {'@title': '', 'img': {'@src': 'https://www6b3.wolframalpha.com/Calculate/MSP/MSP1430148b05de60f59bag000062557546eb28e6e5?MSPStoreType=image/gif&s=11', '@alt': '3 x = 12', '@title': '3 x = 12', '@width': 56, '@height': 19, '@type': 'Default', '@themes': '1,2,3,4,5,6,7,8,9,10,11,12', '@colorinvertable': 'true', '@contenttype': 'image/gif'}, 'plaintext': '3 x = 12'}, 'expressiontypes': {'@count': '1', 'expressiontype': {'@name': 'Default'}}}, {'@title': 'Plot', '@scanner': 'Reduce', '@id': 'RootPlot', '@position': 200.0, '@error': 'false', '@numsubpods': 1, 'subpod': {'@title': '', 'img': {'@src': 'https://www6b3.wolframalpha.com/Calculate/MSP/MSP1431148b05de60f59bag00005cd683ahf18gf440?MSPStoreType=image/gif&s=11', '@alt': 'Plot', '@title': '', '@width': 373, '@height': 219, '@type': '2DMathPlot_1', '@themes': '1,2,3,4,5,6,7,8,9,10,11,12', '@colorinvertable': 'true', '@contenttype': 'image/gif'}, 'plaintext': None}, 'expressiontypes': {'@count': '1', 'expressiontype': {'@name': 'Default'}}}, {'@title': 'Alternate form', '@scanner': 'Simplification', '@id': 'AlternateForm', '@position': 300.0, '@error': 'false', '@numsubpods': 1, 'subpod': {'@title': '', 'img': {'@src': 'https://www6b3.wolframalpha.com/Calculate/MSP/MSP1432148b05de60f59bag00001783he52d1cgb877?MSPStoreType=image/gif&s=11', '@alt': '3 x - 12 = 0', '@title': '3 x - 12 = 0', '@width': 80, '@height': 19, '@type': 'Default', '@themes': '1,2,3,4,5,6,7,8,9,10,11,12', '@colorinvertable': 'true', '@contenttype': 'image/gif'}, 'plaintext': '3 x - 12 = 0'}, 'expressiontypes': {'@count': '1', 'expressiontype': {'@name': 'Default'}}}, {'@title': 'Number line', '@scanner': 'Reduce', '@id': 'NumberLine', '@position': 400.0, '@error': 'false', '@numsubpods': 1, 'subpod': {'@title': '', 'img': {'@src': 'https://www6b3.wolframalpha.com/Calculate/MSP/MSP1433148b05de60f59bag0000439a545i84abcgg3?MSPStoreType=image/gif&s=11', '@alt': 'Number line', '@title': '', '@width': 330, '@height': 60, '@type': '1DMathPlot_1', '@themes': '1,2,3,4,5,6,7,8,9,10,11,12', '@colorinvertable': 'true', '@contenttype': 'image/gif'}, 'plaintext': None}, 'expressiontypes': {'@count': '1', 'expressiontype': {'@name': 'Default'}}}, {'@title': 'Solution', '@scanner': 'Reduce', '@id': 'Solution', '@position': 500.0, '@error': 'false', '@numsubpods': 1, '@primary': True, 'subpod': {'@title': '', 'img': {'@src': 'https://www6b3.wolframalpha.com/Calculate/MSP/MSP1434148b05de60f59bag000031g3hi30e841c201?MSPStoreType=image/gif&s=11', '@alt': 'x = 4', '@title': 'x = 4', '@width': 550, '@height': 22, '@type': 'Default', '@themes': '1,2,3,4,5,6,7,8,9,10,11,12', '@colorinvertable': 'true', '@contenttype': 'image/gif'}, 'plaintext': 'x = 4'}, 'expressiontypes': {'@count': '1', 'expressiontype': {'@name': 'Default'}}, 'states': {'@count': '1', 'state': {'@name': 'Step-by-step solution', '@input': 'Solution__Step-by-step solution', '@stepbystep': 'true', '@buttonstyle': 'StepByStepSolution'}}}]}\n"
          ]
        }
      ]
    },
    {
      "cell_type": "code",
      "source": [],
      "metadata": {
        "id": "AvJ35RMWNrVz"
      },
      "execution_count": null,
      "outputs": []
    },
    {
      "cell_type": "markdown",
      "source": [
        "### **NOTE**\n",
        "**If we're using this way to run our app, we'll have to add the url generated by Flask-ngrok in our api-url.js file. For example, here the url is http://6665-34-141-213-18.ngrok.io. This is because, Flask-ngrok generates a temporary url every time.**"
      ],
      "metadata": {
        "id": "IdXus3eAsIbM"
      }
    },
    {
      "cell_type": "code",
      "source": [],
      "metadata": {
        "id": "wX___DJjshis"
      },
      "execution_count": null,
      "outputs": []
    }
  ]
}